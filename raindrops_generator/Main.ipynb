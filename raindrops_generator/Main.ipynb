{
 "cells": [
  {
   "cell_type": "code",
   "execution_count": 1,
   "metadata": {},
   "outputs": [],
   "source": [
    "from __future__ import absolute_import\n",
    "\n",
    "import os\n",
    "from raindrop.dropgenerator import generateDrops, generate_label, CheckCollision\n",
    "\n",
    "from PIL import Image\n",
    "import numpy as np\n",
    "import cv2\n",
    "from raindrop.raindrop import Raindrop\n",
    "\n",
    "import random\n",
    "from random import randint\n",
    "import math"
   ]
  },
  {
   "cell_type": "code",
   "execution_count": 2,
   "outputs": [],
   "source": [
    "cfg = [\n",
    "    {\n",
    "        'maxR': 400,\n",
    "        'minR': 200,\n",
    "        'maxDrops': 10,\n",
    "        'minDrops': 5,\n",
    "        'edge_darkratio': 0.2,\n",
    "        'return_label': True,\n",
    "        'label_thres': 128,\n",
    "        'A': (1, 4.5),\n",
    "        'B': (3, 1),\n",
    "        'C': (1, 3),\n",
    "        'D': (3, 3)\n",
    "    },\n",
    "    {\n",
    "        'maxR': 250,\n",
    "        'minR': 100,\n",
    "        'maxDrops': 20,\n",
    "        'minDrops': 10,\n",
    "        'edge_darkratio': 0.2,\n",
    "        'return_label': True,\n",
    "        'label_thres': 128,\n",
    "        'A': (1, 4.5),\n",
    "        'B': (3, 1),\n",
    "        'C': (1, 3),\n",
    "        'D': (3, 3)\n",
    "    },\n",
    "    {\n",
    "        'maxR': 150,\n",
    "        'minR': 50,\n",
    "        'maxDrops': 30,\n",
    "        'minDrops': 20,\n",
    "        'edge_darkratio': 0.2,\n",
    "        'return_label': True,\n",
    "        'label_thres': 128,\n",
    "        'A': (1, 4.5),\n",
    "        'B': (3, 1),\n",
    "        'C': (1, 3),\n",
    "        'D': (3, 3)\n",
    "    }\n",
    "]"
   ],
   "metadata": {
    "collapsed": false,
    "pycharm": {
     "name": "#%%\n"
    }
   }
  },
  {
   "cell_type": "code",
   "execution_count": 3,
   "metadata": {},
   "outputs": [
    {
     "name": "stdout",
     "output_type": "stream",
     "text": [
      "0/294\n",
      "10/294\n",
      "20/294\n"
     ]
    },
    {
     "name": "stderr",
     "output_type": "stream",
     "text": [
      "/home/judicator/trash/RaindropsOnWindshield/raindrops_generator/raindrop/dropgenerator.py:231: RuntimeWarning: invalid value encountered in true_divide\n",
      "  alpha_map = alpha_map/np.max(alpha_map)*255.0\n"
     ]
    },
    {
     "name": "stdout",
     "output_type": "stream",
     "text": [
      "30/294\n",
      "40/294\n",
      "50/294\n",
      "60/294\n",
      "70/294\n",
      "80/294\n",
      "90/294\n",
      "100/294\n",
      "110/294\n",
      "120/294\n",
      "130/294\n",
      "140/294\n",
      "150/294\n",
      "160/294\n",
      "170/294\n",
      "180/294\n",
      "190/294\n",
      "200/294\n",
      "210/294\n",
      "220/294\n",
      "230/294\n",
      "240/294\n",
      "250/294\n",
      "260/294\n",
      "270/294\n",
      "280/294\n"
     ]
    },
    {
     "ename": "IndexError",
     "evalue": "too many indices for array: array is 2-dimensional, but 3 were indexed",
     "output_type": "error",
     "traceback": [
      "\u001B[0;31m---------------------------------------------------------------------------\u001B[0m",
      "\u001B[0;31mIndexError\u001B[0m                                Traceback (most recent call last)",
      "Input \u001B[0;32mIn [3]\u001B[0m, in \u001B[0;36m<module>\u001B[0;34m\u001B[0m\n\u001B[1;32m     29\u001B[0m \u001B[38;5;28;01mfor\u001B[39;00m i \u001B[38;5;129;01min\u001B[39;00m \u001B[38;5;28mrange\u001B[39m(\u001B[38;5;241m3\u001B[39m):\n\u001B[1;32m     30\u001B[0m     List_of_Drops, label_map  \u001B[38;5;241m=\u001B[39m generate_label(height, width, cfg[i])\n\u001B[0;32m---> 31\u001B[0m     output_image, output_label, mask \u001B[38;5;241m=\u001B[39m \u001B[43mgenerateDrops\u001B[49m\u001B[43m(\u001B[49m\u001B[43mos\u001B[49m\u001B[38;5;241;43m.\u001B[39;49m\u001B[43mpath\u001B[49m\u001B[38;5;241;43m.\u001B[39;49m\u001B[43mjoin\u001B[49m\u001B[43m(\u001B[49m\u001B[43mtmp_dir\u001B[49m\u001B[43m,\u001B[49m\u001B[43m \u001B[49m\u001B[43msrc_fname\u001B[49m\u001B[43m)\u001B[49m\u001B[43m,\u001B[49m\u001B[43m \u001B[49m\u001B[43mcfg\u001B[49m\u001B[43m[\u001B[49m\u001B[43mi\u001B[49m\u001B[43m]\u001B[49m\u001B[43m,\u001B[49m\u001B[43m \u001B[49m\u001B[43mList_of_Drops\u001B[49m\u001B[43m,\u001B[49m\u001B[43m \u001B[49m\u001B[43mlabel_map\u001B[49m\u001B[43m)\u001B[49m\n\u001B[1;32m     32\u001B[0m     output_image \u001B[38;5;241m=\u001B[39m output_image\u001B[38;5;241m.\u001B[39mresize((src_width, src_height))\n\u001B[1;32m     33\u001B[0m     mask \u001B[38;5;241m=\u001B[39m np\u001B[38;5;241m.\u001B[39marray(mask\u001B[38;5;241m.\u001B[39mresize((src_width, src_height)))\n",
      "File \u001B[0;32m~/trash/RaindropsOnWindshield/raindrops_generator/raindrop/dropgenerator.py:158\u001B[0m, in \u001B[0;36mgenerateDrops\u001B[0;34m(imagePath, cfg, listFinalDrops, label_map)\u001B[0m\n\u001B[1;32m    156\u001B[0m PIL_bg_img \u001B[38;5;241m=\u001B[39m Image\u001B[38;5;241m.\u001B[39mopen(imagePath)\n\u001B[1;32m    157\u001B[0m bg_img \u001B[38;5;241m=\u001B[39m np\u001B[38;5;241m.\u001B[39masarray(PIL_bg_img)\n\u001B[0;32m--> 158\u001B[0m label_map \u001B[38;5;241m=\u001B[39m \u001B[43mnp\u001B[49m\u001B[38;5;241;43m.\u001B[39;49m\u001B[43mzeros_like\u001B[49m\u001B[43m(\u001B[49m\u001B[43mbg_img\u001B[49m\u001B[43m)\u001B[49m\u001B[43m[\u001B[49m\u001B[43m:\u001B[49m\u001B[43m,\u001B[49m\u001B[43m:\u001B[49m\u001B[43m,\u001B[49m\u001B[38;5;241;43m0\u001B[39;49m\u001B[43m]\u001B[49m\n\u001B[1;32m    159\u001B[0m imgh, imgw, _ \u001B[38;5;241m=\u001B[39m bg_img\u001B[38;5;241m.\u001B[39mshape\n\u001B[1;32m    161\u001B[0m A \u001B[38;5;241m=\u001B[39m cfg[\u001B[38;5;124m\"\u001B[39m\u001B[38;5;124mA\u001B[39m\u001B[38;5;124m\"\u001B[39m]\n",
      "\u001B[0;31mIndexError\u001B[0m: too many indices for array: array is 2-dimensional, but 3 were indexed"
     ]
    }
   ],
   "source": [
    "import shutil\n",
    "\n",
    "\n",
    "src_image_dir = '/home/judicator/shared/data/synthetic_raindrops/clean_images'\n",
    "dst_image_dir = '/home/judicator/shared/data/synthetic_raindrops/train_images'\n",
    "mask_dir = '/home/judicator/shared/data/synthetic_raindrops/train_masks'\n",
    "tmp_dir = '/home/judicator/shared/data/synthetic_raindrops/tmp'\n",
    "\n",
    "width = 1280\n",
    "height = 1024\n",
    "\n",
    "images = os.listdir(src_image_dir)\n",
    "\n",
    "for i in range(len(images)):\n",
    "    if i % 10 == 0:\n",
    "        print(f'{i}/{len(images)}')\n",
    "    src_fname = images[i]\n",
    "    src_image_path = os.path.join(src_image_dir, src_fname)\n",
    "    shutil.copyfile(src_image_path, os.path.join(dst_image_dir, src_fname))\n",
    "\n",
    "    src_img = Image.open(src_image_path)\n",
    "    src_width, src_height = src_img.size\n",
    "    empty_mask = Image.fromarray(np.zeros((src_height, src_width), dtype=np.uint8))\n",
    "    empty_mask.save(os.path.join(mask_dir, src_fname.split('.')[0] + '_mask.png'))\n",
    "\n",
    "    src_img = src_img.resize((width, height))\n",
    "    src_img.save(os.path.join(tmp_dir, src_fname))\n",
    "\n",
    "    for i in range(3):\n",
    "        List_of_Drops, label_map  = generate_label(height, width, cfg[i])\n",
    "        output_image, output_label, mask = generateDrops(os.path.join(tmp_dir, src_fname), cfg[i], List_of_Drops, label_map)\n",
    "        output_image = output_image.resize((src_width, src_height))\n",
    "        mask = np.array(mask.resize((src_width, src_height)))\n",
    "        _, mask = cv2.threshold(mask, 127, 255, cv2.THRESH_BINARY)\n",
    "        mask = mask.astype(np.uint8)\n",
    "        assert np.unique(mask).size <= 2\n",
    "        mask = Image.fromarray(mask)\n",
    "        dst_fname_prefix = src_fname.split('.')[0] + f'_drops_{i}'\n",
    "        mask_fname = dst_fname_prefix + '_mask.png'\n",
    "        dst_fname = dst_fname_prefix + '.jpeg'\n",
    "        output_image.save(os.path.join(dst_image_dir, dst_fname))\n",
    "        mask.save(os.path.join(mask_dir, mask_fname))"
   ]
  },
  {
   "cell_type": "code",
   "execution_count": 43,
   "outputs": [
    {
     "name": "stdout",
     "output_type": "stream",
     "text": [
      "<PIL.Image.Image image mode=L size=1280x1024 at 0x7F978F006128>\n",
      "<PIL.Image.Image image mode=L size=1280x1024 at 0x7F9791573C50>\n",
      "<PIL.Image.Image image mode=L size=1280x1024 at 0x7F978F006128>\n",
      "<PIL.Image.Image image mode=L size=1280x1024 at 0x7F978F013E10>\n",
      "<PIL.Image.Image image mode=L size=1280x1024 at 0x7F978F006128>\n"
     ]
    }
   ],
   "source": [
    "\"\"\"\n",
    "An example of raindrops generation on a sequence of 5 images\n",
    "\"\"\"\n",
    "width = 1280\n",
    "height = 1024\n",
    "image_folder_path = \"input/\"\n",
    "outputimg_folder_path = \"output/\"\n",
    "mask_folder_path = \"masks/\"\n",
    "\n",
    "a_main = os.listdir(image_folder_path)\n",
    "if '.DS_Store' in a_main:\n",
    "    a_main.remove('.DS_Store')\n",
    "\n",
    "for folder_name in a_main:\n",
    "\n",
    "    in_folder = image_folder_path + folder_name\n",
    "\n",
    "    out_folder = outputimg_folder_path + folder_name\n",
    "#   os.mkdir(out_folder)\n",
    "    mask_folder = mask_folder_path + folder_name\n",
    "#   os.mkdir(mask_folder)\n",
    "\n",
    "    List_of_Drops, label_map  = generate_label(height, width, cfg)\n",
    "\n",
    "    a = os.listdir(in_folder)\n",
    "    if '.DS_Store' in a:\n",
    "        a.remove('.DS_Store')\n",
    "\n",
    "    for file_name in a:\n",
    "        image_path = os.path.join(in_folder, file_name)\n",
    "        output_image, output_label, mask = generateDrops(image_path, cfg, List_of_Drops, label_map)\n",
    "        print(mask)\n",
    "\n",
    "        save_path = os.path.join(out_folder, file_name)\n",
    "        mask_path = os.path.join(mask_folder, file_name)\n",
    "\n",
    "        output_image.save(save_path)\n",
    "        mask.save(mask_path)"
   ],
   "metadata": {
    "collapsed": false,
    "pycharm": {
     "name": "#%%\n"
    }
   }
  },
  {
   "cell_type": "code",
   "execution_count": null,
   "outputs": [],
   "source": [],
   "metadata": {
    "collapsed": false,
    "pycharm": {
     "name": "#%%\n"
    }
   }
  }
 ],
 "metadata": {
  "kernelspec": {
   "display_name": "Python 3",
   "language": "python",
   "name": "python3"
  },
  "language_info": {
   "codemirror_mode": {
    "name": "ipython",
    "version": 3
   },
   "file_extension": ".py",
   "mimetype": "text/x-python",
   "name": "python",
   "nbconvert_exporter": "python",
   "pygments_lexer": "ipython3",
   "version": "3.7.3"
  }
 },
 "nbformat": 4,
 "nbformat_minor": 2
}